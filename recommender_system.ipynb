{
 "cells": [
  {
   "cell_type": "code",
   "execution_count": null,
   "metadata": {},
   "outputs": [],
   "source": [
    "import datetime\n",
    "\n",
    "import pandas as pd\n",
    "from sklearn.feature_extraction.text import TfidfVectorizer\n",
    "from sklearn.metrics.pairwise import linear_kernel\n",
    "\n",
    "id_column = \"movieId\"\n",
    "content_column = \"tag\"\n",
    "document_path = \"./ml-20m/tags.csv\""
   ]
  },
  {
   "cell_type": "code",
   "execution_count": null,
   "metadata": {},
   "outputs": [],
   "source": [
    "# Read the document\n",
    "t1 = datetime.datetime.now()\n",
    "print(\"Start time to read document is %s: \", t1)\n",
    "\n",
    "ds = pd.read_csv(document_path, converters={content_column: str})\n",
    "\n",
    "t2 = datetime.datetime.now()\n",
    "print(\"End time to read document is %s: \", t2)\n",
    "\n",
    "print(\"Time taken to read the document is %s: \", t2 - t1)\n",
    "\n",
    "# len(ds)\n",
    "ds.head()"
   ]
  },
  {
   "cell_type": "code",
   "execution_count": null,
   "metadata": {},
   "outputs": [],
   "source": [
    "# Document vectorization\n",
    "\n",
    "t1 = datetime.datetime.now()\n",
    "print(\"Start time to TfIdf is %s: \", t1)\n",
    "\n",
    "tf = TfidfVectorizer(analyzer='word', min_df=0, stop_words='english')\n",
    "\n",
    "t2 = datetime.datetime.now()\n",
    "print(\"End time to TfIdf is %s: \", t2)\n",
    "\n",
    "print(\"Time taken to TfIdf is %s: \", t2 - t1)\n",
    "\n",
    "print(tf)\n"
   ]
  },
  {
   "cell_type": "code",
   "execution_count": null,
   "metadata": {},
   "outputs": [],
   "source": [
    "# Transform the content as matrix\n",
    "\n",
    "t1 = datetime.datetime.now()\n",
    "print(\"Start time to compute fit_transform is %s: \", t1)\n",
    "\n",
    "tfidf_matrix = tf.fit_transform(ds[content_column])\n",
    "# tfidf_matrix = tf.fit_transform(ds[content_column].values.astype('U'))\n",
    "\n",
    "t2 = datetime.datetime.now()\n",
    "print(\"End time to compute fit_transform is %s: \", t2)\n",
    "        \n",
    "print(\"Time taken to compute fit_transform is %s: \", t2 - t1)"
   ]
  },
  {
   "cell_type": "code",
   "execution_count": null,
   "metadata": {},
   "outputs": [],
   "source": [
    "# Compute the similarity\n",
    "\n",
    "t1 = datetime.datetime.now()\n",
    "print(\"Start time to compute similarities is %s: \", t1)\n",
    "cosine_similarities = linear_kernel(tfidf_matrix, tfidf_matrix)\n",
    "\n",
    "t2 = datetime.datetime.now()\n",
    "print(\"End time to compute similarities is %s: \", t2)\n",
    "\n",
    "print(\"Time taken to compute similarities is %s: \", t2 - t1)"
   ]
  },
  {
   "cell_type": "code",
   "execution_count": null,
   "metadata": {},
   "outputs": [],
   "source": [
    "# Find the result\n",
    "\n",
    "results = {}\n",
    "\n",
    "t1 = datetime.datetime.now()\n",
    "print(\"Start time to calculate result is %s: \", t1)\n",
    "\n",
    "for idx, row in ds.iterrows():\n",
    "    similar_indices = cosine_similarities[idx].argsort()[:-100:-1]\n",
    "    similar_items = [(cosine_similarities[idx][i], ds[id_column][i]) for i in similar_indices]\n",
    "\n",
    "    results[row[id_column]] = similar_items[1:]\n",
    "    \n",
    "t2 = datetime.datetime.now()\n",
    "print(\"End time to calculate result is %s: \", t2)\n",
    "\n",
    "print(\"Time taken to calculate result is %s: \", t2 - t1)\n",
    "\n",
    "def item(id):\n",
    "    return ds.loc[ds[id_column] == id][content_column].tolist()[0].split(' - ')[0]\n",
    "\n",
    "# Just reads the results out of the dictionary.\n",
    "def recommend(id, num):\n",
    "    print(\"Recommending \" + str(num) + \" products similar to \" + item(id) + \"...\")\n",
    "    print(\"-------\")\n",
    "    recs = results[id][:num]\n",
    "    for rec in recs:\n",
    "        print(\"Recommended: \" + item(rec[1]) + \" (score:\" + str(rec[0]) + \")\")"
   ]
  },
  {
   "cell_type": "code",
   "execution_count": null,
   "metadata": {},
   "outputs": [],
   "source": [
    "t1 = datetime.datetime.now()\n",
    "print(\"Start time to recommend is %s: \", t1)\n",
    "\n",
    "recommend(id=20, num=10)\n",
    "\n",
    "t2 = datetime.datetime.now()\n",
    "print(\"End time to recommend is %s: \", t2)\n",
    "\n",
    "print(\"Time taken to recommend is %s: \", t2 - t1)\n"
   ]
  }
 ],
 "metadata": {
  "kernelspec": {
   "display_name": "Python 3",
   "language": "python",
   "name": "python3"
  },
  "language_info": {
   "codemirror_mode": {
    "name": "ipython",
    "version": 3
   },
   "file_extension": ".py",
   "mimetype": "text/x-python",
   "name": "python",
   "nbconvert_exporter": "python",
   "pygments_lexer": "ipython3",
   "version": "3.7.4-final"
  }
 },
 "nbformat": 4,
 "nbformat_minor": 2
}